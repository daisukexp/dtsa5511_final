{
 "cells": [
  {
   "cell_type": "markdown",
   "id": "c43d2f85",
   "metadata": {},
   "source": [
    "# DTSA-5511,  Final: Lyrics generator\n",
    "### October 6, 2023\n",
    "\n",
    "\n",
    "This jupyter notebok is uploaded to https://github.com/daisukexp/dtsa5511_final"
   ]
  },
  {
   "cell_type": "code",
   "execution_count": 39,
   "id": "99ae02bd",
   "metadata": {},
   "outputs": [],
   "source": [
    "import sys\n",
    "import platform\n",
    "import os\n",
    "import warnings\n",
    "\n",
    "import numpy as np \n",
    "import pandas as pd\n",
    "import matplotlib.pyplot as plt\n",
    "import matplotlib.patches as mpatches\n",
    "import seaborn as sns\n",
    "\n",
    "import tensorflow as tf\n",
    "\n",
    "import time\n",
    "\n",
    "import string\n",
    "import nltk\n",
    "#nltk.download('punkt')\n",
    "\n",
    "import re\n",
    "\n",
    "import visualkeras\n",
    "\n",
    "from collections import Counter\n",
    "\n",
    "from nltk.tokenize import word_tokenize\n",
    "from nltk.corpus import stopwords\n",
    "\n",
    "from keras import regularizers\n",
    "\n",
    "from keras.preprocessing.text import Tokenizer\n",
    "from keras.utils import pad_sequences\n",
    "from keras.utils import to_categorical\n",
    "\n",
    "from keras.models import Sequential, Model\n",
    "from keras.layers import Embedding, Input, LSTM, GRU, Dense, Dropout, Flatten, Bidirectional\n",
    "from keras.optimizers import Adam\n",
    "from keras.callbacks import EarlyStopping\n",
    "\n",
    "from keras import backend as K\n",
    "\n",
    "train_on_gpu = True\n",
    "\n",
    "warnings.simplefilter(action = 'ignore', category = FutureWarning)\n",
    "warnings.simplefilter(action = 'ignore', category = Warning)"
   ]
  },
  {
   "cell_type": "code",
   "execution_count": 13,
   "id": "4c6d31b9",
   "metadata": {},
   "outputs": [
    {
     "data": {
      "text/plain": [
       "'3.9.18 (main, Sep 11 2023, 14:09:26) [MSC v.1916 64 bit (AMD64)]'"
      ]
     },
     "execution_count": 13,
     "metadata": {},
     "output_type": "execute_result"
    }
   ],
   "source": [
    "sys.version"
   ]
  },
  {
   "cell_type": "code",
   "execution_count": 14,
   "id": "479d2071",
   "metadata": {},
   "outputs": [
    {
     "data": {
      "text/plain": [
       "'2.10.1'"
      ]
     },
     "execution_count": 14,
     "metadata": {},
     "output_type": "execute_result"
    }
   ],
   "source": [
    "tf.__version__"
   ]
  },
  {
   "cell_type": "code",
   "execution_count": 15,
   "id": "8b59d42b",
   "metadata": {},
   "outputs": [
    {
     "data": {
      "text/plain": [
       "[PhysicalDevice(name='/physical_device:GPU:0', device_type='GPU')]"
      ]
     },
     "execution_count": 15,
     "metadata": {},
     "output_type": "execute_result"
    }
   ],
   "source": [
    "tf.config.list_physical_devices('GPU')"
   ]
  },
  {
   "cell_type": "code",
   "execution_count": 16,
   "id": "1e84beaa",
   "metadata": {},
   "outputs": [
    {
     "name": "stdout",
     "output_type": "stream",
     "text": [
      "Thu Oct  5 23:24:49 2023       \n",
      "+---------------------------------------------------------------------------------------+\n",
      "| NVIDIA-SMI 537.42                 Driver Version: 537.42       CUDA Version: 12.2     |\n",
      "|-----------------------------------------+----------------------+----------------------+\n",
      "| GPU  Name                     TCC/WDDM  | Bus-Id        Disp.A | Volatile Uncorr. ECC |\n",
      "| Fan  Temp   Perf          Pwr:Usage/Cap |         Memory-Usage | GPU-Util  Compute M. |\n",
      "|                                         |                      |               MIG M. |\n",
      "|=========================================+======================+======================|\n",
      "|   0  NVIDIA GeForce RTX 4070      WDDM  | 00000000:01:00.0  On |                  N/A |\n",
      "|  0%   54C    P2              38W / 200W |  11607MiB / 12282MiB |     35%      Default |\n",
      "|                                         |                      |                  N/A |\n",
      "+-----------------------------------------+----------------------+----------------------+\n",
      "                                                                                         \n",
      "+---------------------------------------------------------------------------------------+\n",
      "| Processes:                                                                            |\n",
      "|  GPU   GI   CI        PID   Type   Process name                            GPU Memory |\n",
      "|        ID   ID                                                             Usage      |\n",
      "|=======================================================================================|\n",
      "|    0   N/A  N/A      6864    C+G   ...ft Office\\root\\Office16\\OUTLOOK.EXE    N/A      |\n",
      "|    0   N/A  N/A      7964    C+G   ....5185.0_x64__8j3eq9eme6ctt\\IGCC.exe    N/A      |\n",
      "|    0   N/A  N/A      8020    C+G   C:\\Windows\\explorer.exe                   N/A      |\n",
      "|    0   N/A  N/A      9380    C+G   ...__8wekyb3d8bbwe\\WindowsTerminal.exe    N/A      |\n",
      "|    0   N/A  N/A      9796    C+G   ...nt.CBS_cw5n1h2txyewy\\SearchHost.exe    N/A      |\n",
      "|    0   N/A  N/A      9908    C+G   ...2txyewy\\StartMenuExperienceHost.exe    N/A      |\n",
      "|    0   N/A  N/A     10812    C+G   ...ekyb3d8bbwe\\PhoneExperienceHost.exe    N/A      |\n",
      "|    0   N/A  N/A     12036    C+G   ...5n1h2txyewy\\ShellExperienceHost.exe    N/A      |\n",
      "|    0   N/A  N/A     12516      C   ...ke\\anaconda3\\envs\\tf-gpu\\python.exe    N/A      |\n",
      "|    0   N/A  N/A     12728    C+G   ...crosoft\\Edge\\Application\\msedge.exe    N/A      |\n",
      "|    0   N/A  N/A     13516    C+G   ...t.LockApp_cw5n1h2txyewy\\LockApp.exe    N/A      |\n",
      "|    0   N/A  N/A     14792    C+G   ...siveControlPanel\\SystemSettings.exe    N/A      |\n",
      "|    0   N/A  N/A     14944    C+G   ...CBS_cw5n1h2txyewy\\TextInputHost.exe    N/A      |\n",
      "|    0   N/A  N/A     15492    C+G   ...anese Input\\GoogleIMEJaRenderer.exe    N/A      |\n",
      "|    0   N/A  N/A     16240    C+G   ...oogle\\Chrome\\Application\\chrome.exe    N/A      |\n",
      "|    0   N/A  N/A     16864    C+G   ...les\\Microsoft OneDrive\\OneDrive.exe    N/A      |\n",
      "|    0   N/A  N/A     19304    C+G   ...\\Local\\slack\\app-4.34.121\\slack.exe    N/A      |\n",
      "|    0   N/A  N/A     19824    C+G   ....350_x64__8wekyb3d8bbwe\\msteams.exe    N/A      |\n",
      "|    0   N/A  N/A     20416    C+G   ...on\\117.0.2045.47\\msedgewebview2.exe    N/A      |\n",
      "|    0   N/A  N/A     21388      C   ...ke\\anaconda3\\envs\\tf-gpu\\python.exe    N/A      |\n",
      "|    0   N/A  N/A     22444    C+G   ...ata\\Local\\LINE\\bin\\current\\LINE.exe    N/A      |\n",
      "|    0   N/A  N/A     22768      C   ...ke\\anaconda3\\envs\\tf-gpu\\python.exe    N/A      |\n",
      "|    0   N/A  N/A     22912    C+G   ...__8wekyb3d8bbwe\\WindowsTerminal.exe    N/A      |\n",
      "|    0   N/A  N/A     23364    C+G   ...gin\\LineCall\\1.0.0.692\\LineCall.exe    N/A      |\n",
      "|    0   N/A  N/A     24172    C+G   ...t Office\\root\\Office16\\POWERPNT.EXE    N/A      |\n",
      "|    0   N/A  N/A     25732    C+G   ...on\\117.0.2045.47\\msedgewebview2.exe    N/A      |\n",
      "|    0   N/A  N/A     26648      C   ...ke\\anaconda3\\envs\\tf-gpu\\python.exe    N/A      |\n",
      "+---------------------------------------------------------------------------------------+\n"
     ]
    }
   ],
   "source": [
    "if train_on_gpu:\n",
    "    !nvidia-smi"
   ]
  },
  {
   "cell_type": "markdown",
   "id": "f3d716ca",
   "metadata": {},
   "source": [
    "# Step 1 : Gather data, determine the method of data collection and provenance of the data\n",
    "\n",
    "### Introduction\n",
    "For the culminating project in my Deep Learning course, it was imperative to select a subject that resonated with personal interests. Given the pervasive influence of music in my life, I turned my attention to areas within this realm. My decision was to leverage a dataset that facilitates the generation of lyrics across distinct musical genres, such as Rock, Pop, Heavy Metal, and Hip Hop.\n",
    "\n",
    "### About Dataset\n",
    "\n",
    "The dataset, titled \"Song Lyrics from 79 Musical Genres\", was sourced from Kaggle. While the primary application of this dataset pertains to the prediction of musical genres based on lyrics, for the scope of this project, it serves as a reservoir of lyrics classified by genre or artist.\n",
    "\n",
    "The dataset can be accessed at the following link:\n",
    "\n",
    "https://www.kaggle.com/datasets/neisse/scrapped-lyrics-from-6-genres/data\n",
    "\n",
    "\n",
    "There are two main files in this dataset: artists-data.csv and lyrics-data.csv."
   ]
  },
  {
   "cell_type": "markdown",
   "id": "8e5000d5",
   "metadata": {},
   "source": [
    "# Step 2 : Identify a Deep Learning Problem"
   ]
  },
  {
   "cell_type": "markdown",
   "id": "6d7a6c42",
   "metadata": {},
   "source": [
    "### Problem Definition\n",
    "In the vast landscape of music, each genre carries its distinct linguistic nuances, characterized by specific words and phrases that resonate with its essence. Our primary objective in this study is to develop a system that, when provided with a specified genre, can generate lyrics that seamlessly align with the linguistic intricacies unique to that genre. By harnessing the power of deep learning and drawing insights from our chosen dataset, we aspire to generte lyrics of the designated genre.\n",
    "\n",
    "### Approach & Methodology\n",
    "Our methodology distinguishes itself from typical solutions found on platforms like Kaggle, which often focus primarily on visualizing dataset trends. Our approach is more holistic, encompassing the following elements:\n",
    "\n",
    "- Build Multiple Models:\n",
    "We plan to develop and test several RNN models. Our aim is to evaluate their performance in generating lyrics. By comparing the results, we can determine the most effective model for our purposes.\n",
    "\n",
    "- Analysis:\n",
    "Our analysis is multifaceted. In this project, we emphasize computational efficiency during model construction, in addition to prioritizing model accuracy. This dual focus ensures our model is not only precise but also performance-optimized. By adopting this approach, we aim to provide an effective solution to the challenge at hand."
   ]
  },
  {
   "cell_type": "markdown",
   "id": "d265dfd9",
   "metadata": {},
   "source": [
    "# Step 3 : Exploratory Data Analysis(EDA) - Inspect, Visualize and Clean the Data\n"
   ]
  },
  {
   "cell_type": "markdown",
   "id": "1c6ec49d",
   "metadata": {},
   "source": [
    "### Initial inspection  and cleaning"
   ]
  },
  {
   "cell_type": "code",
   "execution_count": 17,
   "id": "1d94dd95",
   "metadata": {},
   "outputs": [],
   "source": [
    "df_lyrics = pd.read_csv('data/lyrics-data.csv')"
   ]
  },
  {
   "cell_type": "code",
   "execution_count": 18,
   "id": "6bb3d7b6",
   "metadata": {},
   "outputs": [
    {
     "data": {
      "text/html": [
       "<div>\n",
       "<style scoped>\n",
       "    .dataframe tbody tr th:only-of-type {\n",
       "        vertical-align: middle;\n",
       "    }\n",
       "\n",
       "    .dataframe tbody tr th {\n",
       "        vertical-align: top;\n",
       "    }\n",
       "\n",
       "    .dataframe thead th {\n",
       "        text-align: right;\n",
       "    }\n",
       "</style>\n",
       "<table border=\"1\" class=\"dataframe\">\n",
       "  <thead>\n",
       "    <tr style=\"text-align: right;\">\n",
       "      <th></th>\n",
       "      <th>ALink</th>\n",
       "      <th>SName</th>\n",
       "      <th>SLink</th>\n",
       "      <th>Lyric</th>\n",
       "      <th>language</th>\n",
       "    </tr>\n",
       "  </thead>\n",
       "  <tbody>\n",
       "    <tr>\n",
       "      <th>0</th>\n",
       "      <td>/ivete-sangalo/</td>\n",
       "      <td>Arerê</td>\n",
       "      <td>/ivete-sangalo/arere.html</td>\n",
       "      <td>Tudo o que eu quero nessa vida,\\nToda vida, é\\...</td>\n",
       "      <td>pt</td>\n",
       "    </tr>\n",
       "    <tr>\n",
       "      <th>1</th>\n",
       "      <td>/ivete-sangalo/</td>\n",
       "      <td>Se Eu Não Te Amasse Tanto Assim</td>\n",
       "      <td>/ivete-sangalo/se-eu-nao-te-amasse-tanto-assim...</td>\n",
       "      <td>Meu coração\\nSem direção\\nVoando só por voar\\n...</td>\n",
       "      <td>pt</td>\n",
       "    </tr>\n",
       "    <tr>\n",
       "      <th>2</th>\n",
       "      <td>/ivete-sangalo/</td>\n",
       "      <td>Céu da Boca</td>\n",
       "      <td>/ivete-sangalo/chupa-toda.html</td>\n",
       "      <td>É de babaixá!\\nÉ de balacubaca!\\nÉ de babaixá!...</td>\n",
       "      <td>pt</td>\n",
       "    </tr>\n",
       "    <tr>\n",
       "      <th>3</th>\n",
       "      <td>/ivete-sangalo/</td>\n",
       "      <td>Quando A Chuva Passar</td>\n",
       "      <td>/ivete-sangalo/quando-a-chuva-passar.html</td>\n",
       "      <td>Quando a chuva passar\\n\\nPra quê falar\\nSe voc...</td>\n",
       "      <td>pt</td>\n",
       "    </tr>\n",
       "    <tr>\n",
       "      <th>4</th>\n",
       "      <td>/ivete-sangalo/</td>\n",
       "      <td>Sorte Grande</td>\n",
       "      <td>/ivete-sangalo/sorte-grande.html</td>\n",
       "      <td>A minha sorte grande foi você cair do céu\\nMin...</td>\n",
       "      <td>pt</td>\n",
       "    </tr>\n",
       "    <tr>\n",
       "      <th>...</th>\n",
       "      <td>...</td>\n",
       "      <td>...</td>\n",
       "      <td>...</td>\n",
       "      <td>...</td>\n",
       "      <td>...</td>\n",
       "    </tr>\n",
       "    <tr>\n",
       "      <th>379926</th>\n",
       "      <td>/clegg-johnny/</td>\n",
       "      <td>The Waiting</td>\n",
       "      <td>/clegg-johnny/the-waiting.html</td>\n",
       "      <td>Chorus\\nHere we stand waiting on the plain\\nDa...</td>\n",
       "      <td>en</td>\n",
       "    </tr>\n",
       "    <tr>\n",
       "      <th>379927</th>\n",
       "      <td>/clegg-johnny/</td>\n",
       "      <td>Too Early For The Sky</td>\n",
       "      <td>/clegg-johnny/too-early-for-the-sky.html</td>\n",
       "      <td>I nearly disappeared into the mouth of a croco...</td>\n",
       "      <td>en</td>\n",
       "    </tr>\n",
       "    <tr>\n",
       "      <th>379928</th>\n",
       "      <td>/clegg-johnny/</td>\n",
       "      <td>Warsaw 1943 (I Never Betrayed The Revolution)</td>\n",
       "      <td>/clegg-johnny/warsaw-1943-i-never-betrayed-the...</td>\n",
       "      <td>Amambuka, amambuka azothengisa izwe lakithi, i...</td>\n",
       "      <td>en</td>\n",
       "    </tr>\n",
       "    <tr>\n",
       "      <th>379929</th>\n",
       "      <td>/clegg-johnny/</td>\n",
       "      <td>When The System Has Fallen</td>\n",
       "      <td>/clegg-johnny/when-the-system-has-fallen.html</td>\n",
       "      <td>Sweat in the heat for days on end\\nwaiting for...</td>\n",
       "      <td>en</td>\n",
       "    </tr>\n",
       "    <tr>\n",
       "      <th>379930</th>\n",
       "      <td>/clegg-johnny/</td>\n",
       "      <td>Woman Be My Country</td>\n",
       "      <td>/clegg-johnny/woman-be-my-country.html</td>\n",
       "      <td>Here we stand on the edge of the day\\nFaces me...</td>\n",
       "      <td>en</td>\n",
       "    </tr>\n",
       "  </tbody>\n",
       "</table>\n",
       "<p>379931 rows × 5 columns</p>\n",
       "</div>"
      ],
      "text/plain": [
       "                  ALink                                          SName  \\\n",
       "0       /ivete-sangalo/                                          Arerê   \n",
       "1       /ivete-sangalo/                Se Eu Não Te Amasse Tanto Assim   \n",
       "2       /ivete-sangalo/                                    Céu da Boca   \n",
       "3       /ivete-sangalo/                          Quando A Chuva Passar   \n",
       "4       /ivete-sangalo/                                   Sorte Grande   \n",
       "...                 ...                                            ...   \n",
       "379926   /clegg-johnny/                                    The Waiting   \n",
       "379927   /clegg-johnny/                          Too Early For The Sky   \n",
       "379928   /clegg-johnny/  Warsaw 1943 (I Never Betrayed The Revolution)   \n",
       "379929   /clegg-johnny/                     When The System Has Fallen   \n",
       "379930   /clegg-johnny/                            Woman Be My Country   \n",
       "\n",
       "                                                    SLink  \\\n",
       "0                               /ivete-sangalo/arere.html   \n",
       "1       /ivete-sangalo/se-eu-nao-te-amasse-tanto-assim...   \n",
       "2                          /ivete-sangalo/chupa-toda.html   \n",
       "3               /ivete-sangalo/quando-a-chuva-passar.html   \n",
       "4                        /ivete-sangalo/sorte-grande.html   \n",
       "...                                                   ...   \n",
       "379926                     /clegg-johnny/the-waiting.html   \n",
       "379927           /clegg-johnny/too-early-for-the-sky.html   \n",
       "379928  /clegg-johnny/warsaw-1943-i-never-betrayed-the...   \n",
       "379929      /clegg-johnny/when-the-system-has-fallen.html   \n",
       "379930             /clegg-johnny/woman-be-my-country.html   \n",
       "\n",
       "                                                    Lyric language  \n",
       "0       Tudo o que eu quero nessa vida,\\nToda vida, é\\...       pt  \n",
       "1       Meu coração\\nSem direção\\nVoando só por voar\\n...       pt  \n",
       "2       É de babaixá!\\nÉ de balacubaca!\\nÉ de babaixá!...       pt  \n",
       "3       Quando a chuva passar\\n\\nPra quê falar\\nSe voc...       pt  \n",
       "4       A minha sorte grande foi você cair do céu\\nMin...       pt  \n",
       "...                                                   ...      ...  \n",
       "379926  Chorus\\nHere we stand waiting on the plain\\nDa...       en  \n",
       "379927  I nearly disappeared into the mouth of a croco...       en  \n",
       "379928  Amambuka, amambuka azothengisa izwe lakithi, i...       en  \n",
       "379929  Sweat in the heat for days on end\\nwaiting for...       en  \n",
       "379930  Here we stand on the edge of the day\\nFaces me...       en  \n",
       "\n",
       "[379931 rows x 5 columns]"
      ]
     },
     "execution_count": 18,
     "metadata": {},
     "output_type": "execute_result"
    }
   ],
   "source": [
    "df_lyrics"
   ]
  },
  {
   "cell_type": "code",
   "execution_count": 19,
   "id": "fa017b85",
   "metadata": {},
   "outputs": [
    {
     "data": {
      "text/html": [
       "<div>\n",
       "<style scoped>\n",
       "    .dataframe tbody tr th:only-of-type {\n",
       "        vertical-align: middle;\n",
       "    }\n",
       "\n",
       "    .dataframe tbody tr th {\n",
       "        vertical-align: top;\n",
       "    }\n",
       "\n",
       "    .dataframe thead th {\n",
       "        text-align: right;\n",
       "    }\n",
       "</style>\n",
       "<table border=\"1\" class=\"dataframe\">\n",
       "  <thead>\n",
       "    <tr style=\"text-align: right;\">\n",
       "      <th></th>\n",
       "      <th>Artist</th>\n",
       "      <th>Genres</th>\n",
       "      <th>Songs</th>\n",
       "      <th>Popularity</th>\n",
       "      <th>Link</th>\n",
       "    </tr>\n",
       "  </thead>\n",
       "  <tbody>\n",
       "    <tr>\n",
       "      <th>0</th>\n",
       "      <td>Ivete Sangalo</td>\n",
       "      <td>Pop; Axé; Romântico</td>\n",
       "      <td>313.0</td>\n",
       "      <td>4.4</td>\n",
       "      <td>/ivete-sangalo/</td>\n",
       "    </tr>\n",
       "    <tr>\n",
       "      <th>1</th>\n",
       "      <td>Chiclete com Banana</td>\n",
       "      <td>Axé</td>\n",
       "      <td>268.0</td>\n",
       "      <td>3.8</td>\n",
       "      <td>/chiclete-com-banana/</td>\n",
       "    </tr>\n",
       "    <tr>\n",
       "      <th>2</th>\n",
       "      <td>Banda Eva</td>\n",
       "      <td>Axé; Romântico; Reggae</td>\n",
       "      <td>215.0</td>\n",
       "      <td>2.3</td>\n",
       "      <td>/banda-eva/</td>\n",
       "    </tr>\n",
       "    <tr>\n",
       "      <th>3</th>\n",
       "      <td>É O Tchan</td>\n",
       "      <td>Axé</td>\n",
       "      <td>129.0</td>\n",
       "      <td>1.6</td>\n",
       "      <td>/e-o-tchan/</td>\n",
       "    </tr>\n",
       "    <tr>\n",
       "      <th>4</th>\n",
       "      <td>Claudia Leitte</td>\n",
       "      <td>Pop; Axé; Romântico</td>\n",
       "      <td>167.0</td>\n",
       "      <td>1.5</td>\n",
       "      <td>/claudia-leitte/</td>\n",
       "    </tr>\n",
       "    <tr>\n",
       "      <th>...</th>\n",
       "      <td>...</td>\n",
       "      <td>...</td>\n",
       "      <td>...</td>\n",
       "      <td>...</td>\n",
       "      <td>...</td>\n",
       "    </tr>\n",
       "    <tr>\n",
       "      <th>4163</th>\n",
       "      <td>Miriam Makeba</td>\n",
       "      <td>World Music; Black Music; Blues</td>\n",
       "      <td>17.0</td>\n",
       "      <td>0.0</td>\n",
       "      <td>/miriam-makeba/</td>\n",
       "    </tr>\n",
       "    <tr>\n",
       "      <th>4164</th>\n",
       "      <td>Freddie Aguilar</td>\n",
       "      <td>World Music</td>\n",
       "      <td>61.0</td>\n",
       "      <td>0.0</td>\n",
       "      <td>/freddie-aguilar/</td>\n",
       "    </tr>\n",
       "    <tr>\n",
       "      <th>4165</th>\n",
       "      <td>Amadou &amp; Mariam</td>\n",
       "      <td>World Music</td>\n",
       "      <td>14.0</td>\n",
       "      <td>0.0</td>\n",
       "      <td>/amadou-mariam/</td>\n",
       "    </tr>\n",
       "    <tr>\n",
       "      <th>4166</th>\n",
       "      <td>Magic System</td>\n",
       "      <td>World Music; Gospel/Religioso</td>\n",
       "      <td>16.0</td>\n",
       "      <td>0.0</td>\n",
       "      <td>/magic-system/</td>\n",
       "    </tr>\n",
       "    <tr>\n",
       "      <th>4167</th>\n",
       "      <td>Johnny Clegg</td>\n",
       "      <td>World Music; Gospel/Religioso</td>\n",
       "      <td>34.0</td>\n",
       "      <td>0.0</td>\n",
       "      <td>/clegg-johnny/</td>\n",
       "    </tr>\n",
       "  </tbody>\n",
       "</table>\n",
       "<p>4168 rows × 5 columns</p>\n",
       "</div>"
      ],
      "text/plain": [
       "                   Artist                           Genres  Songs  Popularity  \\\n",
       "0           Ivete Sangalo              Pop; Axé; Romântico  313.0         4.4   \n",
       "1     Chiclete com Banana                              Axé  268.0         3.8   \n",
       "2               Banda Eva           Axé; Romântico; Reggae  215.0         2.3   \n",
       "3               É O Tchan                              Axé  129.0         1.6   \n",
       "4          Claudia Leitte              Pop; Axé; Romântico  167.0         1.5   \n",
       "...                   ...                              ...    ...         ...   \n",
       "4163        Miriam Makeba  World Music; Black Music; Blues   17.0         0.0   \n",
       "4164      Freddie Aguilar                      World Music   61.0         0.0   \n",
       "4165      Amadou & Mariam                      World Music   14.0         0.0   \n",
       "4166         Magic System    World Music; Gospel/Religioso   16.0         0.0   \n",
       "4167         Johnny Clegg    World Music; Gospel/Religioso   34.0         0.0   \n",
       "\n",
       "                       Link  \n",
       "0           /ivete-sangalo/  \n",
       "1     /chiclete-com-banana/  \n",
       "2               /banda-eva/  \n",
       "3               /e-o-tchan/  \n",
       "4          /claudia-leitte/  \n",
       "...                     ...  \n",
       "4163        /miriam-makeba/  \n",
       "4164      /freddie-aguilar/  \n",
       "4165        /amadou-mariam/  \n",
       "4166         /magic-system/  \n",
       "4167         /clegg-johnny/  \n",
       "\n",
       "[4168 rows x 5 columns]"
      ]
     },
     "execution_count": 19,
     "metadata": {},
     "output_type": "execute_result"
    }
   ],
   "source": [
    "df_artists = pd.read_csv('data/artists-data.csv')\n",
    "df_artists"
   ]
  },
  {
   "cell_type": "markdown",
   "id": "a566239f",
   "metadata": {},
   "source": [
    "Drop unused fields and merge the lyrics with artist information. Retain only songs in English."
   ]
  },
  {
   "cell_type": "code",
   "execution_count": 20,
   "id": "0b861031",
   "metadata": {},
   "outputs": [
    {
     "data": {
      "text/html": [
       "<div>\n",
       "<style scoped>\n",
       "    .dataframe tbody tr th:only-of-type {\n",
       "        vertical-align: middle;\n",
       "    }\n",
       "\n",
       "    .dataframe tbody tr th {\n",
       "        vertical-align: top;\n",
       "    }\n",
       "\n",
       "    .dataframe thead th {\n",
       "        text-align: right;\n",
       "    }\n",
       "</style>\n",
       "<table border=\"1\" class=\"dataframe\">\n",
       "  <thead>\n",
       "    <tr style=\"text-align: right;\">\n",
       "      <th></th>\n",
       "      <th>Lyric</th>\n",
       "      <th>Artist</th>\n",
       "      <th>Genres</th>\n",
       "    </tr>\n",
       "  </thead>\n",
       "  <tbody>\n",
       "    <tr>\n",
       "      <th>69</th>\n",
       "      <td>I feel so unsure\\nAs I take your hand and lead...</td>\n",
       "      <td>Ivete Sangalo</td>\n",
       "      <td>Pop; Axé; Romântico</td>\n",
       "    </tr>\n",
       "    <tr>\n",
       "      <th>86</th>\n",
       "      <td>Don't let them fool, ya\\nOr even try to school...</td>\n",
       "      <td>Ivete Sangalo</td>\n",
       "      <td>Pop; Axé; Romântico</td>\n",
       "    </tr>\n",
       "    <tr>\n",
       "      <th>88</th>\n",
       "      <td>Baby, let's cruise, away from here\\nDon't be c...</td>\n",
       "      <td>Ivete Sangalo</td>\n",
       "      <td>Pop; Axé; Romântico</td>\n",
       "    </tr>\n",
       "    <tr>\n",
       "      <th>111</th>\n",
       "      <td>Know it sounds funny\\nBut, I just can't stand ...</td>\n",
       "      <td>Ivete Sangalo</td>\n",
       "      <td>Pop; Axé; Romântico</td>\n",
       "    </tr>\n",
       "    <tr>\n",
       "      <th>140</th>\n",
       "      <td>You've got that look again\\nThe one I hoped I ...</td>\n",
       "      <td>Ivete Sangalo</td>\n",
       "      <td>Pop; Axé; Romântico</td>\n",
       "    </tr>\n",
       "    <tr>\n",
       "      <th>...</th>\n",
       "      <td>...</td>\n",
       "      <td>...</td>\n",
       "      <td>...</td>\n",
       "    </tr>\n",
       "    <tr>\n",
       "      <th>379926</th>\n",
       "      <td>Chorus\\nHere we stand waiting on the plain\\nDa...</td>\n",
       "      <td>Johnny Clegg</td>\n",
       "      <td>World Music; Gospel/Religioso</td>\n",
       "    </tr>\n",
       "    <tr>\n",
       "      <th>379927</th>\n",
       "      <td>I nearly disappeared into the mouth of a croco...</td>\n",
       "      <td>Johnny Clegg</td>\n",
       "      <td>World Music; Gospel/Religioso</td>\n",
       "    </tr>\n",
       "    <tr>\n",
       "      <th>379928</th>\n",
       "      <td>Amambuka, amambuka azothengisa izwe lakithi, i...</td>\n",
       "      <td>Johnny Clegg</td>\n",
       "      <td>World Music; Gospel/Religioso</td>\n",
       "    </tr>\n",
       "    <tr>\n",
       "      <th>379929</th>\n",
       "      <td>Sweat in the heat for days on end\\nwaiting for...</td>\n",
       "      <td>Johnny Clegg</td>\n",
       "      <td>World Music; Gospel/Religioso</td>\n",
       "    </tr>\n",
       "    <tr>\n",
       "      <th>379930</th>\n",
       "      <td>Here we stand on the edge of the day\\nFaces me...</td>\n",
       "      <td>Johnny Clegg</td>\n",
       "      <td>World Music; Gospel/Religioso</td>\n",
       "    </tr>\n",
       "  </tbody>\n",
       "</table>\n",
       "<p>191814 rows × 3 columns</p>\n",
       "</div>"
      ],
      "text/plain": [
       "                                                    Lyric         Artist  \\\n",
       "69      I feel so unsure\\nAs I take your hand and lead...  Ivete Sangalo   \n",
       "86      Don't let them fool, ya\\nOr even try to school...  Ivete Sangalo   \n",
       "88      Baby, let's cruise, away from here\\nDon't be c...  Ivete Sangalo   \n",
       "111     Know it sounds funny\\nBut, I just can't stand ...  Ivete Sangalo   \n",
       "140     You've got that look again\\nThe one I hoped I ...  Ivete Sangalo   \n",
       "...                                                   ...            ...   \n",
       "379926  Chorus\\nHere we stand waiting on the plain\\nDa...   Johnny Clegg   \n",
       "379927  I nearly disappeared into the mouth of a croco...   Johnny Clegg   \n",
       "379928  Amambuka, amambuka azothengisa izwe lakithi, i...   Johnny Clegg   \n",
       "379929  Sweat in the heat for days on end\\nwaiting for...   Johnny Clegg   \n",
       "379930  Here we stand on the edge of the day\\nFaces me...   Johnny Clegg   \n",
       "\n",
       "                               Genres  \n",
       "69                Pop; Axé; Romântico  \n",
       "86                Pop; Axé; Romântico  \n",
       "88                Pop; Axé; Romântico  \n",
       "111               Pop; Axé; Romântico  \n",
       "140               Pop; Axé; Romântico  \n",
       "...                               ...  \n",
       "379926  World Music; Gospel/Religioso  \n",
       "379927  World Music; Gospel/Religioso  \n",
       "379928  World Music; Gospel/Religioso  \n",
       "379929  World Music; Gospel/Religioso  \n",
       "379930  World Music; Gospel/Religioso  \n",
       "\n",
       "[191814 rows x 3 columns]"
      ]
     },
     "execution_count": 20,
     "metadata": {},
     "output_type": "execute_result"
    }
   ],
   "source": [
    "df_merged = pd.merge(df_lyrics, df_artists, left_on='ALink', right_on='Link')\n",
    "df_merged = pd.merge(df_lyrics, df_artists, left_on='ALink', right_on='Link', how='outer')\n",
    "df_merged = df_merged[df_merged['language'] == 'en']\n",
    "df_merged.drop(columns=['ALink', 'Link', 'SLink', 'Songs', 'Popularity', 'SName', 'language'], inplace=True)\n",
    "df_merged"
   ]
  },
  {
   "cell_type": "markdown",
   "id": "2b0b446d",
   "metadata": {},
   "source": [
    "Drop rows where the \"Lyric\" or \"Genres\" columns are missing."
   ]
  },
  {
   "cell_type": "code",
   "execution_count": 21,
   "id": "d5b28dfd",
   "metadata": {},
   "outputs": [
    {
     "data": {
      "text/plain": [
       "Lyric       0\n",
       "Artist    427\n",
       "Genres    436\n",
       "dtype: int64"
      ]
     },
     "execution_count": 21,
     "metadata": {},
     "output_type": "execute_result"
    }
   ],
   "source": [
    "df_merged.isna().sum()"
   ]
  },
  {
   "cell_type": "code",
   "execution_count": 22,
   "id": "3b493fda",
   "metadata": {},
   "outputs": [],
   "source": [
    "df_merged = df_merged.dropna(subset=['Lyric', 'Genres'])"
   ]
  },
  {
   "cell_type": "markdown",
   "id": "12975cb2",
   "metadata": {},
   "source": [
    "Retain only first one in Genre columns"
   ]
  },
  {
   "cell_type": "code",
   "execution_count": 23,
   "id": "19297722",
   "metadata": {},
   "outputs": [],
   "source": [
    "df_merged['Genres'] = df_merged['Genres'].str.split(';').str[0]"
   ]
  },
  {
   "cell_type": "markdown",
   "id": "bb577558",
   "metadata": {},
   "source": [
    "Pick up top 5 genres"
   ]
  },
  {
   "cell_type": "code",
   "execution_count": 24,
   "id": "6d81e84f",
   "metadata": {},
   "outputs": [
    {
     "data": {
      "text/plain": [
       "Genres\n",
       "Rock           25177\n",
       "Pop            13759\n",
       "Heavy Metal    13496\n",
       "Indie          12998\n",
       "Rap             9589\n",
       "Name: count, dtype: int64"
      ]
     },
     "execution_count": 24,
     "metadata": {},
     "output_type": "execute_result"
    }
   ],
   "source": [
    "genre_counts = df_merged['Genres'].value_counts()\n",
    "top_5_genres = genre_counts.head(5)\n",
    "top_5_genres"
   ]
  },
  {
   "cell_type": "markdown",
   "id": "02f93d9b",
   "metadata": {},
   "source": [
    "Calculate average number of word in lyrics"
   ]
  },
  {
   "cell_type": "code",
   "execution_count": 25,
   "id": "940b6421",
   "metadata": {},
   "outputs": [
    {
     "data": {
      "text/plain": [
       "250.51645957215564"
      ]
     },
     "execution_count": 25,
     "metadata": {},
     "output_type": "execute_result"
    }
   ],
   "source": [
    "df_merged['word_count'] = df_merged['Lyric'].str.split().apply(len)\n",
    "average_word_count = df_merged['word_count'].mean()\n",
    "average_word_count"
   ]
  },
  {
   "cell_type": "code",
   "execution_count": 26,
   "id": "c6084608",
   "metadata": {},
   "outputs": [
    {
     "data": {
      "text/html": [
       "<div>\n",
       "<style scoped>\n",
       "    .dataframe tbody tr th:only-of-type {\n",
       "        vertical-align: middle;\n",
       "    }\n",
       "\n",
       "    .dataframe tbody tr th {\n",
       "        vertical-align: top;\n",
       "    }\n",
       "\n",
       "    .dataframe thead th {\n",
       "        text-align: right;\n",
       "    }\n",
       "</style>\n",
       "<table border=\"1\" class=\"dataframe\">\n",
       "  <thead>\n",
       "    <tr style=\"text-align: right;\">\n",
       "      <th></th>\n",
       "      <th>Lyric</th>\n",
       "      <th>Artist</th>\n",
       "      <th>Genres</th>\n",
       "      <th>word_count</th>\n",
       "    </tr>\n",
       "  </thead>\n",
       "  <tbody>\n",
       "    <tr>\n",
       "      <th>69</th>\n",
       "      <td>I feel so unsure\\nAs I take your hand and lead...</td>\n",
       "      <td>Ivete Sangalo</td>\n",
       "      <td>Pop</td>\n",
       "      <td>299</td>\n",
       "    </tr>\n",
       "    <tr>\n",
       "      <th>86</th>\n",
       "      <td>Don't let them fool, ya\\nOr even try to school...</td>\n",
       "      <td>Ivete Sangalo</td>\n",
       "      <td>Pop</td>\n",
       "      <td>161</td>\n",
       "    </tr>\n",
       "    <tr>\n",
       "      <th>88</th>\n",
       "      <td>Baby, let's cruise, away from here\\nDon't be c...</td>\n",
       "      <td>Ivete Sangalo</td>\n",
       "      <td>Pop</td>\n",
       "      <td>159</td>\n",
       "    </tr>\n",
       "    <tr>\n",
       "      <th>111</th>\n",
       "      <td>Know it sounds funny\\nBut, I just can't stand ...</td>\n",
       "      <td>Ivete Sangalo</td>\n",
       "      <td>Pop</td>\n",
       "      <td>175</td>\n",
       "    </tr>\n",
       "    <tr>\n",
       "      <th>140</th>\n",
       "      <td>You've got that look again\\nThe one I hoped I ...</td>\n",
       "      <td>Ivete Sangalo</td>\n",
       "      <td>Pop</td>\n",
       "      <td>215</td>\n",
       "    </tr>\n",
       "    <tr>\n",
       "      <th>...</th>\n",
       "      <td>...</td>\n",
       "      <td>...</td>\n",
       "      <td>...</td>\n",
       "      <td>...</td>\n",
       "    </tr>\n",
       "    <tr>\n",
       "      <th>379926</th>\n",
       "      <td>Chorus\\nHere we stand waiting on the plain\\nDa...</td>\n",
       "      <td>Johnny Clegg</td>\n",
       "      <td>World Music</td>\n",
       "      <td>198</td>\n",
       "    </tr>\n",
       "    <tr>\n",
       "      <th>379927</th>\n",
       "      <td>I nearly disappeared into the mouth of a croco...</td>\n",
       "      <td>Johnny Clegg</td>\n",
       "      <td>World Music</td>\n",
       "      <td>137</td>\n",
       "    </tr>\n",
       "    <tr>\n",
       "      <th>379928</th>\n",
       "      <td>Amambuka, amambuka azothengisa izwe lakithi, i...</td>\n",
       "      <td>Johnny Clegg</td>\n",
       "      <td>World Music</td>\n",
       "      <td>221</td>\n",
       "    </tr>\n",
       "    <tr>\n",
       "      <th>379929</th>\n",
       "      <td>Sweat in the heat for days on end\\nwaiting for...</td>\n",
       "      <td>Johnny Clegg</td>\n",
       "      <td>World Music</td>\n",
       "      <td>260</td>\n",
       "    </tr>\n",
       "    <tr>\n",
       "      <th>379930</th>\n",
       "      <td>Here we stand on the edge of the day\\nFaces me...</td>\n",
       "      <td>Johnny Clegg</td>\n",
       "      <td>World Music</td>\n",
       "      <td>302</td>\n",
       "    </tr>\n",
       "  </tbody>\n",
       "</table>\n",
       "<p>191378 rows × 4 columns</p>\n",
       "</div>"
      ],
      "text/plain": [
       "                                                    Lyric         Artist  \\\n",
       "69      I feel so unsure\\nAs I take your hand and lead...  Ivete Sangalo   \n",
       "86      Don't let them fool, ya\\nOr even try to school...  Ivete Sangalo   \n",
       "88      Baby, let's cruise, away from here\\nDon't be c...  Ivete Sangalo   \n",
       "111     Know it sounds funny\\nBut, I just can't stand ...  Ivete Sangalo   \n",
       "140     You've got that look again\\nThe one I hoped I ...  Ivete Sangalo   \n",
       "...                                                   ...            ...   \n",
       "379926  Chorus\\nHere we stand waiting on the plain\\nDa...   Johnny Clegg   \n",
       "379927  I nearly disappeared into the mouth of a croco...   Johnny Clegg   \n",
       "379928  Amambuka, amambuka azothengisa izwe lakithi, i...   Johnny Clegg   \n",
       "379929  Sweat in the heat for days on end\\nwaiting for...   Johnny Clegg   \n",
       "379930  Here we stand on the edge of the day\\nFaces me...   Johnny Clegg   \n",
       "\n",
       "             Genres  word_count  \n",
       "69              Pop         299  \n",
       "86              Pop         161  \n",
       "88              Pop         159  \n",
       "111             Pop         175  \n",
       "140             Pop         215  \n",
       "...             ...         ...  \n",
       "379926  World Music         198  \n",
       "379927  World Music         137  \n",
       "379928  World Music         221  \n",
       "379929  World Music         260  \n",
       "379930  World Music         302  \n",
       "\n",
       "[191378 rows x 4 columns]"
      ]
     },
     "execution_count": 26,
     "metadata": {},
     "output_type": "execute_result"
    }
   ],
   "source": [
    "df_filtered = df_merged\n",
    "df_filtered"
   ]
  },
  {
   "cell_type": "markdown",
   "id": "7104a8a5",
   "metadata": {},
   "source": [
    "We have 191378 English songs with Artist and Genres information."
   ]
  },
  {
   "cell_type": "markdown",
   "id": "ade88918",
   "metadata": {},
   "source": [
    "### Visualize"
   ]
  },
  {
   "cell_type": "code",
   "execution_count": 27,
   "id": "40b63392",
   "metadata": {},
   "outputs": [
    {
     "data": {
      "image/png": "[encoded data removed]",
      "text/plain": [
       "<Figure size 640x480 with 1 Axes>"
      ]
     },
     "metadata": {},
     "output_type": "display_data"
    }
   ],
   "source": [
    "genres_split = df_filtered['Genres']\n",
    "top_genres = genres_split.value_counts().head(5)\n",
    "\n",
    "top_genres.plot(kind='bar', color='teal')\n",
    "plt.title('Top 5 Genres')\n",
    "plt.xlabel('Genres')\n",
    "plt.ylabel('Count')\n",
    "plt.xticks(rotation=45)\n",
    "plt.show()"
   ]
  },
  {
   "cell_type": "code",
   "execution_count": 28,
   "id": "72235676",
   "metadata": {},
   "outputs": [
    {
     "data": {
      "image/png": "[encoded data removed]",
      "text/plain": [
       "<Figure size 640x480 with 1 Axes>"
      ]
     },
     "metadata": {},
     "output_type": "display_data"
    }
   ],
   "source": [
    "top_artists = df_filtered['Artist'].value_counts().head(10)\n",
    "top_artists.plot(kind='bar')\n",
    "plt.title('Top 10 Artists')\n",
    "plt.xlabel('Artists')\n",
    "plt.ylabel('Count')\n",
    "plt.show()"
   ]
  },
  {
   "cell_type": "markdown",
   "id": "5e0363ed",
   "metadata": {},
   "source": [
    "# Step 4 : Perform Analysis Using Deep Learning Models of your Choice, Present Discussion, and Conclusions "
   ]
  },
  {
   "cell_type": "markdown",
   "id": "4c3a21af",
   "metadata": {},
   "source": [
    "## 4.1 : Model Selection"
   ]
  },
  {
   "cell_type": "markdown",
   "id": "df16bb09",
   "metadata": {},
   "source": [
    "For generating text based on a specified genre, a recurrent neural network (RNN) is typically a good choice due to its ability to maintain memory of past sequences, which is essential for understanding the structure and continuity in texts. More specifically, the belows are the deep learning models we considered for this project:\n",
    "\n",
    "### LSTM (Long Short-Term Memory):\n",
    "This is a type of RNN that can learn and remember over long sequences and is less susceptible to the vanishing gradient problem. Given the complexity and length of lyrics, LSTMs are a solid choice for this task.\n",
    "\n",
    "### GRU (Gated Recurrent Units):\n",
    "GRUs are similar to LSTMs but with a simpler structure. They can sometimes perform equally well but can be faster to train due to the reduced complexity.\n",
    "\n",
    "### Transformer Models:\n",
    "While originally designed for translation tasks, transformer models like BERT, GPT-2, and GPT-3 have shown incredible results in text generation. They can capture longer-range dependencies in the text compared to RNNs. If we have the computational resources and are looking for state-of-the-art results, we might consider fine-tuning a pre-trained transformer model on the dataset.\n",
    "\n",
    "### Seq2Seq Models:\n",
    "While more commonly used for tasks like translation, they can also be adapted for text generation. A Seq2Seq model can take a genre as input and produce a sequence of lyrics as output.\n",
    "\n",
    "\n",
    "### Employed model\n",
    "For our project, after evaluating the various deep learning models available, we settled on two specific architectures, namely LSTM and GRU. The reasons for our choices are outlined below:\n",
    "\n",
    "- LSTM : Memory Retention, Mitigation of Vanishing Gradient and Versatility\n",
    "- GRU : Simpler Architecture, Peformance and Efficiency"
   ]
  },
  {
   "cell_type": "markdown",
   "id": "27958366",
   "metadata": {},
   "source": [
    "## 4.2 LSTM"
   ]
  },
  {
   "cell_type": "markdown",
   "id": "ef05cea5",
   "metadata": {},
   "source": [
    "### Preprocessing"
   ]
  },
  {
   "cell_type": "markdown",
   "id": "4623172a",
   "metadata": {},
   "source": [
    "### Prepare traing dataset for the target domain\n",
    "In this Jupytor Notebook, we show our work for Pop music. Other experiments to be covered by a presentaion."
   ]
  },
  {
   "cell_type": "code",
   "execution_count": 29,
   "id": "474276cc",
   "metadata": {},
   "outputs": [
    {
     "data": {
      "text/html": [
       "<div>\n",
       "<style scoped>\n",
       "    .dataframe tbody tr th:only-of-type {\n",
       "        vertical-align: middle;\n",
       "    }\n",
       "\n",
       "    .dataframe tbody tr th {\n",
       "        vertical-align: top;\n",
       "    }\n",
       "\n",
       "    .dataframe thead th {\n",
       "        text-align: right;\n",
       "    }\n",
       "</style>\n",
       "<table border=\"1\" class=\"dataframe\">\n",
       "  <thead>\n",
       "    <tr style=\"text-align: right;\">\n",
       "      <th></th>\n",
       "      <th>Lyric</th>\n",
       "      <th>Artist</th>\n",
       "      <th>Genres</th>\n",
       "      <th>word_count</th>\n",
       "    </tr>\n",
       "  </thead>\n",
       "  <tbody>\n",
       "    <tr>\n",
       "      <th>262103</th>\n",
       "      <td>Baby, if I tell you what I want\\nDon't call me...</td>\n",
       "      <td>JoJo</td>\n",
       "      <td>Pop</td>\n",
       "      <td>530</td>\n",
       "    </tr>\n",
       "    <tr>\n",
       "      <th>259567</th>\n",
       "      <td>Now listen I think you and me\\nHave come to th...</td>\n",
       "      <td>Lily Allen</td>\n",
       "      <td>Pop</td>\n",
       "      <td>426</td>\n",
       "    </tr>\n",
       "    <tr>\n",
       "      <th>33784</th>\n",
       "      <td>Girl you're beautiful\\nYou're 'bout near perfe...</td>\n",
       "      <td>Lady A</td>\n",
       "      <td>Pop</td>\n",
       "      <td>266</td>\n",
       "    </tr>\n",
       "    <tr>\n",
       "      <th>265440</th>\n",
       "      <td>The air attack warning sounds like\\nThis is th...</td>\n",
       "      <td>Frankie Goes To Hollywood</td>\n",
       "      <td>Pop</td>\n",
       "      <td>195</td>\n",
       "    </tr>\n",
       "    <tr>\n",
       "      <th>57137</th>\n",
       "      <td>(Shanell Verse)\\nBaby, Can I come over and pla...</td>\n",
       "      <td>Shanell</td>\n",
       "      <td>Pop</td>\n",
       "      <td>317</td>\n",
       "    </tr>\n",
       "    <tr>\n",
       "      <th>975</th>\n",
       "      <td>This is my carnaval aye aye aye ha\\n(Mr. World...</td>\n",
       "      <td>Claudia Leitte</td>\n",
       "      <td>Pop</td>\n",
       "      <td>532</td>\n",
       "    </tr>\n",
       "    <tr>\n",
       "      <th>55419</th>\n",
       "      <td>Notice me\\nTake my hand\\nWhy are we\\nStrangers...</td>\n",
       "      <td>Cher Lloyd</td>\n",
       "      <td>Pop</td>\n",
       "      <td>120</td>\n",
       "    </tr>\n",
       "    <tr>\n",
       "      <th>251443</th>\n",
       "      <td>I miss the taste of a sweeter life\\nI miss the...</td>\n",
       "      <td>Maroon 5</td>\n",
       "      <td>Pop</td>\n",
       "      <td>448</td>\n",
       "    </tr>\n",
       "    <tr>\n",
       "      <th>265551</th>\n",
       "      <td>Christmas, Christmas time is near\\nTime for to...</td>\n",
       "      <td>Alvin &amp; The Chipmunks</td>\n",
       "      <td>Pop</td>\n",
       "      <td>82</td>\n",
       "    </tr>\n",
       "    <tr>\n",
       "      <th>265752</th>\n",
       "      <td>Sometimes I feel I wanna fly away\\nWith you my...</td>\n",
       "      <td>Sugababes</td>\n",
       "      <td>Pop</td>\n",
       "      <td>145</td>\n",
       "    </tr>\n",
       "  </tbody>\n",
       "</table>\n",
       "</div>"
      ],
      "text/plain": [
       "                                                    Lyric  \\\n",
       "262103  Baby, if I tell you what I want\\nDon't call me...   \n",
       "259567  Now listen I think you and me\\nHave come to th...   \n",
       "33784   Girl you're beautiful\\nYou're 'bout near perfe...   \n",
       "265440  The air attack warning sounds like\\nThis is th...   \n",
       "57137   (Shanell Verse)\\nBaby, Can I come over and pla...   \n",
       "975     This is my carnaval aye aye aye ha\\n(Mr. World...   \n",
       "55419   Notice me\\nTake my hand\\nWhy are we\\nStrangers...   \n",
       "251443  I miss the taste of a sweeter life\\nI miss the...   \n",
       "265551  Christmas, Christmas time is near\\nTime for to...   \n",
       "265752  Sometimes I feel I wanna fly away\\nWith you my...   \n",
       "\n",
       "                           Artist Genres  word_count  \n",
       "262103                       JoJo    Pop         530  \n",
       "259567                 Lily Allen    Pop         426  \n",
       "33784                      Lady A    Pop         266  \n",
       "265440  Frankie Goes To Hollywood    Pop         195  \n",
       "57137                     Shanell    Pop         317  \n",
       "975                Claudia Leitte    Pop         532  \n",
       "55419                  Cher Lloyd    Pop         120  \n",
       "251443                   Maroon 5    Pop         448  \n",
       "265551      Alvin & The Chipmunks    Pop          82  \n",
       "265752                  Sugababes    Pop         145  "
      ]
     },
     "execution_count": 29,
     "metadata": {},
     "output_type": "execute_result"
    }
   ],
   "source": [
    "#df_test = df_filtered[df_filtered['Genres'] == 'Indie'].sample(n=100, replace=False, random_state=123)\n",
    "#df_test = df_filtered[df_filtered['Artist'] == 'David Bowie'].sample(n=100, replace=False, random_state=123)\n",
    "df_test = df_filtered[df_filtered['Genres'] == 'Pop'].sample(n=100, replace=False, random_state=123)\n",
    "\n",
    "df_test.head(10)"
   ]
  },
  {
   "cell_type": "markdown",
   "id": "9f9d5a0e",
   "metadata": {},
   "source": [
    "### Tokenization"
   ]
  },
  {
   "cell_type": "markdown",
   "id": "b8e10ce2",
   "metadata": {},
   "source": [
    "The tokenization is crucial part for preparing text data for nueral network training.The primary tasks include tokenization, sequence generation, and data splitting into predictors and labels.\n",
    "\n",
    "#### Tokenization:\n",
    "Tokenization is the process of converting text into numerical tokens. These tokens typically represent words or characters. It's a fundamental step in many natural language processing (NLP) tasks since machines understand numbers better than raw text.\n",
    "The Tokenizer from Keras is instantiated, which will help in the tokenization process.\n",
    "fit_on_texts method is then called on the 'Lyric' column of the df_test dataframe to tokenize the lyrics. The lyrics are converted to lowercase before tokenization to ensure uniformity.\n",
    "The total number of unique words is stored in total_words, which will be useful later when defining the neural network architecture.\n",
    "The texts_to_sequences method is then used to convert the lyrics into a sequence of tokens.\n",
    "\n",
    "\n",
    "#### Generating n-gram sequences:\n",
    "\n",
    "This section of the code takes the tokenized sentences and breaks them down into n-gram sequences. N-gram sequences are contiguous sequences of 'n' items from the original sentence. This is done to create a dataset where given a sequence of words, the next word can be predicted.\n",
    "For instance, from the sentence \"I study machine learning\", the n-gram sequences generated would include \"I study\", \"I study machine\", and \"I study machine learning\".\n",
    "\n",
    "\n",
    "#### Padding:\n",
    "\n",
    "Neural networks require input data to have a consistent shape. But our n-gram sequences will have variable lengths. To handle this, padding is used.\n",
    "The pad_sequences function from Keras adds zeros to ensure that all sequences have the same length, which is the length of the longest sequence.\n",
    "In this code, padding is added to the beginning of sequences, as specified by padding='pre'.\n",
    "\n",
    "\n",
    "#### Splitting data into predictors and labels:\n",
    "\n",
    "The goal of the model will be to predict the next word in a sequence. So, the last word of each sequence is used as a label, and the rest of the sequence is used as the input data.\n",
    "The X variable contains the input sequences without the last word, while the labels variable contains only the last word from each sequence.\n",
    "The to_categorical function is used to convert the labels into a one-hot encoded format, which is a binary matrix representation of the labels. This is done because it's a multi-class classification problem where each word in our vocabulary is a separate class."
   ]
  },
  {
   "cell_type": "code",
   "execution_count": 30,
   "id": "4722b08e",
   "metadata": {},
   "outputs": [],
   "source": [
    "# Tokenization\n",
    "tokenizer = Tokenizer()\n",
    "tokenizer.fit_on_texts(df_test['Lyric'].astype(str).str.lower())\n",
    "\n",
    "total_words = len(tokenizer.word_index)+1\n",
    "tokenized_sentences = tokenizer.texts_to_sequences(df_test['Lyric'].astype(str))"
   ]
  },
  {
   "cell_type": "code",
   "execution_count": 31,
   "id": "7c5e6dff",
   "metadata": {},
   "outputs": [],
   "source": [
    "# Slash sequences into n gram sequence\n",
    "input_sequences = list()\n",
    "for i in tokenized_sentences:\n",
    "    for t in range(1, len(i)):\n",
    "        n_gram_sequence = i[:t+1]\n",
    "        input_sequences.append(n_gram_sequence)\n",
    "        \n",
    "# Pre padding\n",
    "max_sequence_len = max([len(x) for x in input_sequences])\n",
    "input_sequences = np.array(pad_sequences(input_sequences, maxlen=max_sequence_len, padding='pre'))"
   ]
  },
  {
   "cell_type": "code",
   "execution_count": 32,
   "id": "047b4e43",
   "metadata": {},
   "outputs": [],
   "source": [
    "# create predictors and label\n",
    "X, labels = input_sequences[:,:-1],input_sequences[:,-1]\n",
    "y = tf.keras.utils.to_categorical(labels, num_classes=total_words)"
   ]
  },
  {
   "cell_type": "markdown",
   "id": "7848e6f8",
   "metadata": {},
   "source": [
    "### Model training"
   ]
  },
  {
   "cell_type": "markdown",
   "id": "984879dd",
   "metadata": {},
   "source": [
    "#### Long Short-Term Memory (LSTM):\n",
    "LSTM stands for Long Short-Term Memory. It is a type of recurrent neural network (RNN) architecture. RNNs are neural networks designed to recognize patterns over sequences of data, such as time series or text. However, basic RNNs suffer from vanishing and exploding gradient problems, which makes them less efficient at capturing long-term dependencies in a sequence. LSTM was designed to overcome these challenges. They are equipped with gates (input, forget, and output gates) that regulate the flow of information, allowing them to capture both short-term and long-term dependencies in sequence data.\n",
    "\n",
    "- An Embedding layer is added first, which converts tokenized words into dense vectors of fixed size, in this case, 40 dimensions.\n",
    "- A Bidirectional LSTM layer with 250 units follows the Embedding layer. The bidirectional wrapper around the LSTM means that the LSTM will consider the sequence in both its original order and its reverse, potentially capturing patterns that may be overlooked when considering the sequence in just one direction. The number 250 in LSTM(250) refers to the number of LSTM units or neurons, which was chosen based on the average number of words in songs.\n",
    "- A Dropout layer is added with a dropout rate of 0.1 to prevent overfitting. This layer randomly sets a fraction of input units to 0 at each update during training, which helps prevent overfitting.\n",
    "- Finally, a Dense layer with a softmax activation function is added. This layer will predict the probability distribution of the next word over the entire vocabulary."
   ]
  },
  {
   "cell_type": "code",
   "execution_count": 33,
   "id": "45e5e4bb",
   "metadata": {},
   "outputs": [
    {
     "name": "stdout",
     "output_type": "stream",
     "text": [
      "Model: \"sequential_1\"\n",
      "_________________________________________________________________\n",
      " Layer (type)                Output Shape              Param #   \n",
      "=================================================================\n",
      " embedding (Embedding)       (None, 925, 40)           101960    \n",
      "                                                                 \n",
      " bidirectional (Bidirectiona  (None, 500)              582000    \n",
      " l)                                                              \n",
      "                                                                 \n",
      " dropout (Dropout)           (None, 500)               0         \n",
      "                                                                 \n",
      " dense (Dense)               (None, 2549)              1277049   \n",
      "                                                                 \n",
      "=================================================================\n",
      "Total params: 1,961,009\n",
      "Trainable params: 1,961,009\n",
      "Non-trainable params: 0\n",
      "_________________________________________________________________\n"
     ]
    }
   ],
   "source": [
    "# create model\n",
    "model_lstm = Sequential()\n",
    "model_lstm.add(Embedding(total_words, 40, input_length=max_sequence_len-1))\n",
    "model_lstm.add(Bidirectional(LSTM(250)))\n",
    "model_lstm.add(Dropout(0.1))\n",
    "model_lstm.add(Dense(total_words, activation='softmax'))\n",
    "model_lstm.compile(loss='categorical_crossentropy', optimizer='adam', metrics=['accuracy'])\n",
    "\n",
    "earlystop = EarlyStopping(monitor='loss', min_delta=0, patience=3, verbose=0, mode='auto')\n",
    "\n",
    "model_lstm.summary()"
   ]
  },
  {
   "cell_type": "markdown",
   "id": "4ca0eaed",
   "metadata": {},
   "source": [
    "Let's train the LSTM model. We've set the number of epochs to 40 based on numerous trials and testing. The training will be halted by the earlystop callback if it monitors no improvement in the training loss."
   ]
  },
  {
   "cell_type": "code",
   "execution_count": 39,
   "id": "598d2846",
   "metadata": {},
   "outputs": [
    {
     "name": "stdout",
     "output_type": "stream",
     "text": [
      "Epoch 1/40\n",
      "230/230 [==============================] - 23s 101ms/step - loss: 3.6956 - accuracy: 0.2744\n",
      "Epoch 2/40\n",
      "230/230 [==============================] - 23s 100ms/step - loss: 3.4094 - accuracy: 0.3133\n",
      "Epoch 3/40\n",
      "230/230 [==============================] - 23s 100ms/step - loss: 3.1648 - accuracy: 0.3500\n",
      "Epoch 4/40\n",
      "230/230 [==============================] - 23s 101ms/step - loss: 2.9642 - accuracy: 0.3828\n",
      "Epoch 5/40\n",
      "230/230 [==============================] - 23s 101ms/step - loss: 2.8151 - accuracy: 0.4073\n",
      "Epoch 6/40\n",
      "230/230 [==============================] - 23s 99ms/step - loss: 2.6816 - accuracy: 0.4337\n",
      "Epoch 7/40\n",
      "230/230 [==============================] - 23s 99ms/step - loss: 2.5680 - accuracy: 0.4526\n",
      "Epoch 8/40\n",
      "230/230 [==============================] - 23s 99ms/step - loss: 2.4599 - accuracy: 0.4731\n",
      "Epoch 9/40\n",
      "230/230 [==============================] - 23s 100ms/step - loss: 2.3697 - accuracy: 0.4914\n",
      "Epoch 10/40\n",
      "230/230 [==============================] - 24s 106ms/step - loss: 2.2883 - accuracy: 0.5037\n",
      "Epoch 11/40\n",
      "230/230 [==============================] - 22s 97ms/step - loss: 2.2213 - accuracy: 0.5184\n",
      "Epoch 12/40\n",
      "230/230 [==============================] - 23s 100ms/step - loss: 2.1501 - accuracy: 0.5315\n",
      "Epoch 13/40\n",
      "230/230 [==============================] - 23s 100ms/step - loss: 2.0905 - accuracy: 0.5409\n",
      "Epoch 14/40\n",
      "230/230 [==============================] - 23s 99ms/step - loss: 2.0329 - accuracy: 0.5525\n",
      "Epoch 15/40\n",
      "230/230 [==============================] - 23s 100ms/step - loss: 1.9873 - accuracy: 0.5622\n",
      "Epoch 16/40\n",
      "230/230 [==============================] - 23s 100ms/step - loss: 1.9318 - accuracy: 0.5726\n",
      "Epoch 17/40\n",
      "230/230 [==============================] - 23s 100ms/step - loss: 1.8905 - accuracy: 0.5775\n",
      "Epoch 18/40\n",
      "230/230 [==============================] - 23s 100ms/step - loss: 1.8550 - accuracy: 0.5871\n",
      "Epoch 19/40\n",
      "230/230 [==============================] - 23s 99ms/step - loss: 1.8172 - accuracy: 0.5953\n",
      "Epoch 20/40\n",
      "230/230 [==============================] - 23s 101ms/step - loss: 1.7677 - accuracy: 0.6019\n",
      "Epoch 21/40\n",
      "230/230 [==============================] - 23s 102ms/step - loss: 1.7307 - accuracy: 0.6116\n",
      "Epoch 22/40\n",
      "230/230 [==============================] - 23s 99ms/step - loss: 1.6954 - accuracy: 0.6171\n",
      "Epoch 23/40\n",
      "230/230 [==============================] - 23s 99ms/step - loss: 1.6649 - accuracy: 0.6243\n",
      "Epoch 24/40\n",
      "230/230 [==============================] - 23s 101ms/step - loss: 1.6347 - accuracy: 0.6285\n",
      "Epoch 25/40\n",
      "230/230 [==============================] - 24s 104ms/step - loss: 1.6021 - accuracy: 0.6364\n",
      "Epoch 26/40\n",
      "230/230 [==============================] - 24s 103ms/step - loss: 1.5785 - accuracy: 0.6401\n",
      "Epoch 27/40\n",
      "230/230 [==============================] - 22s 97ms/step - loss: 1.5445 - accuracy: 0.6441\n",
      "Epoch 28/40\n",
      "230/230 [==============================] - 22s 95ms/step - loss: 1.5176 - accuracy: 0.6506\n",
      "Epoch 29/40\n",
      "230/230 [==============================] - 22s 97ms/step - loss: 1.4944 - accuracy: 0.6554\n",
      "Epoch 30/40\n",
      "230/230 [==============================] - 22s 97ms/step - loss: 1.4723 - accuracy: 0.6612\n",
      "Epoch 31/40\n",
      "230/230 [==============================] - 22s 97ms/step - loss: 1.4453 - accuracy: 0.6669\n",
      "Epoch 32/40\n",
      "230/230 [==============================] - 23s 98ms/step - loss: 1.4232 - accuracy: 0.6687\n",
      "Epoch 33/40\n",
      "230/230 [==============================] - 22s 98ms/step - loss: 1.4017 - accuracy: 0.6738\n",
      "Epoch 34/40\n",
      "230/230 [==============================] - 22s 95ms/step - loss: 1.3747 - accuracy: 0.6824\n",
      "Epoch 35/40\n",
      "230/230 [==============================] - 22s 94ms/step - loss: 1.4690 - accuracy: 0.6576\n",
      "Epoch 36/40\n",
      "230/230 [==============================] - 23s 101ms/step - loss: 1.4176 - accuracy: 0.6723\n",
      "Epoch 37/40\n",
      "230/230 [==============================] - 23s 98ms/step - loss: 1.3708 - accuracy: 0.6807\n",
      "Epoch 38/40\n",
      "230/230 [==============================] - 22s 97ms/step - loss: 1.3318 - accuracy: 0.6883\n",
      "Epoch 39/40\n",
      "230/230 [==============================] - 23s 98ms/step - loss: 1.3058 - accuracy: 0.6911\n",
      "Epoch 40/40\n",
      "230/230 [==============================] - 22s 94ms/step - loss: 1.2920 - accuracy: 0.6967\n",
      "Time taken: 913.1 seconds\n"
     ]
    }
   ],
   "source": [
    "start_time = time.time()\n",
    "\n",
    "history_lstm = model_lstm.fit(X, y, epochs=40, verbose=1, callbacks=[earlystop], batch_size=128)\n",
    "\n",
    "end_time = time.time()\n",
    "elapsed_time = end_time - start_time\n",
    "print(f\"Time taken: {round(elapsed_time, 1)} seconds\")"
   ]
  },
  {
   "cell_type": "code",
   "execution_count": null,
   "id": "c2562687",
   "metadata": {},
   "outputs": [],
   "source": [
    "#K.clear_session()"
   ]
  },
  {
   "cell_type": "markdown",
   "id": "119e3818",
   "metadata": {},
   "source": [
    "## 4.3 GRU"
   ]
  },
  {
   "cell_type": "markdown",
   "id": "31e46792",
   "metadata": {},
   "source": [
    "### Model training"
   ]
  },
  {
   "cell_type": "markdown",
   "id": "ba445e75",
   "metadata": {},
   "source": [
    "#### Gated Recurrent Unit (GRU):\n",
    "GRU is a type of recurrent neural network (RNN) architecture designed to deal with the vanishing gradient problem that traditional RNNs face. It achieves this with a simplified gating mechanism compared to the LSTM (Long Short-Term Memory) network, another popular RNN variant. The gates in a GRU help the model decide how much of the new input should be considered and how much of the previous memory should be retained. Due to its simplified structure, GRUs are often faster to train than LSTMs, while still retaining a considerable ability to capture temporal dependencies.\n",
    "\n",
    "- An Embedding layer is added first. This layer maps each token (word) to a 40-dimensional vector, capturing the semantic meaning of the words.\n",
    "- A Bidirectional GRU layer with 250 units is added.\n",
    "- A Dropout layer is introduced with a rate of 0.1 to prevent overfitting. Dropout randomly sets a fraction of the input units to 0 at each training step, which helps in regularizing the model.\n",
    "- A Dense layer with a softmax activation function predicts the probability distribution over the entire vocabulary for the next word in the sequence.\n",
    "- The model is compiled with the categorical crossentropy loss function (suitable for multi-class classification) and the Adam optimizer."
   ]
  },
  {
   "cell_type": "code",
   "execution_count": 40,
   "id": "710a2cac",
   "metadata": {},
   "outputs": [
    {
     "name": "stdout",
     "output_type": "stream",
     "text": [
      "Model: \"sequential_2\"\n",
      "_________________________________________________________________\n",
      " Layer (type)                Output Shape              Param #   \n",
      "=================================================================\n",
      " embedding_1 (Embedding)     (None, 925, 40)           101960    \n",
      "                                                                 \n",
      " bidirectional_1 (Bidirectio  (None, 500)              438000    \n",
      " nal)                                                            \n",
      "                                                                 \n",
      " dropout_1 (Dropout)         (None, 500)               0         \n",
      "                                                                 \n",
      " dense_1 (Dense)             (None, 2549)              1277049   \n",
      "                                                                 \n",
      "=================================================================\n",
      "Total params: 1,817,009\n",
      "Trainable params: 1,817,009\n",
      "Non-trainable params: 0\n",
      "_________________________________________________________________\n"
     ]
    }
   ],
   "source": [
    "# Create predictors and label\n",
    "X, labels = input_sequences[:, :-1], input_sequences[:, -1]\n",
    "y = tf.keras.utils.to_categorical(labels, num_classes=total_words)\n",
    "\n",
    "# Create the model with GRU\n",
    "model_gru = Sequential()\n",
    "model_gru.add(Embedding(total_words, 40, input_length=max_sequence_len-1))\n",
    "model_gru.add(Bidirectional(GRU(250)))  # Using GRU here\n",
    "model_gru.add(Dropout(0.1))\n",
    "model_gru.add(Dense(total_words, activation='softmax'))\n",
    "model_gru.compile(loss='categorical_crossentropy', optimizer='adam', metrics=['accuracy'])\n",
    "earlystop = EarlyStopping(monitor='loss', min_delta=0, patience=3, verbose=0, mode='auto')\n",
    "\n",
    "model_gru.summary()"
   ]
  },
  {
   "cell_type": "code",
   "execution_count": 40,
   "id": "a1f5f4b5",
   "metadata": {},
   "outputs": [
    {
     "name": "stdout",
     "output_type": "stream",
     "text": [
      "Epoch 1/40\n",
      "230/230 [==============================] - 23s 98ms/step - loss: 0.4483 - accuracy: 0.8982\n",
      "Epoch 2/40\n",
      "230/230 [==============================] - 24s 102ms/step - loss: 0.3395 - accuracy: 0.9272\n",
      "Epoch 3/40\n",
      "230/230 [==============================] - 22s 98ms/step - loss: 0.2902 - accuracy: 0.9387\n",
      "Epoch 4/40\n",
      "230/230 [==============================] - 22s 97ms/step - loss: 0.2538 - accuracy: 0.9486\n",
      "Epoch 5/40\n",
      "230/230 [==============================] - 22s 97ms/step - loss: 0.2361 - accuracy: 0.9525\n",
      "Epoch 6/40\n",
      "230/230 [==============================] - 22s 97ms/step - loss: 0.2155 - accuracy: 0.9570\n",
      "Epoch 7/40\n",
      "230/230 [==============================] - 22s 98ms/step - loss: 0.1918 - accuracy: 0.9630\n",
      "Epoch 8/40\n",
      "230/230 [==============================] - 22s 97ms/step - loss: 0.1835 - accuracy: 0.9631\n",
      "Epoch 9/40\n",
      "230/230 [==============================] - 23s 98ms/step - loss: 0.1763 - accuracy: 0.9646\n",
      "Epoch 10/40\n",
      "230/230 [==============================] - 22s 98ms/step - loss: 0.1661 - accuracy: 0.9666\n",
      "Epoch 11/40\n",
      "230/230 [==============================] - 23s 101ms/step - loss: 0.1558 - accuracy: 0.9691\n",
      "Epoch 12/40\n",
      "230/230 [==============================] - 23s 102ms/step - loss: 0.1477 - accuracy: 0.9714\n",
      "Epoch 13/40\n",
      "230/230 [==============================] - 23s 98ms/step - loss: 0.1423 - accuracy: 0.9711\n",
      "Epoch 14/40\n",
      "230/230 [==============================] - 23s 98ms/step - loss: 0.1415 - accuracy: 0.9707\n",
      "Epoch 15/40\n",
      "230/230 [==============================] - 22s 97ms/step - loss: 0.1552 - accuracy: 0.9672\n",
      "Epoch 16/40\n",
      "230/230 [==============================] - 21s 93ms/step - loss: 0.1502 - accuracy: 0.9675\n",
      "Epoch 17/40\n",
      "230/230 [==============================] - 23s 100ms/step - loss: 0.1368 - accuracy: 0.9710\n",
      "Epoch 18/40\n",
      "230/230 [==============================] - 23s 100ms/step - loss: 0.1439 - accuracy: 0.9696\n",
      "Epoch 19/40\n",
      "230/230 [==============================] - 22s 97ms/step - loss: 0.1252 - accuracy: 0.9731\n",
      "Epoch 20/40\n",
      "230/230 [==============================] - 22s 98ms/step - loss: 0.1175 - accuracy: 0.9759\n",
      "Epoch 21/40\n",
      "230/230 [==============================] - 22s 97ms/step - loss: 0.1140 - accuracy: 0.9760\n",
      "Epoch 22/40\n",
      "230/230 [==============================] - 22s 97ms/step - loss: 0.1108 - accuracy: 0.9764\n",
      "Epoch 23/40\n",
      "230/230 [==============================] - 22s 98ms/step - loss: 0.1201 - accuracy: 0.9725\n",
      "Epoch 24/40\n",
      "230/230 [==============================] - 22s 96ms/step - loss: 0.1127 - accuracy: 0.9758\n",
      "Epoch 25/40\n",
      "230/230 [==============================] - 22s 97ms/step - loss: 0.1244 - accuracy: 0.9716\n",
      "Time taken: 563.8 seconds\n"
     ]
    }
   ],
   "source": [
    "start_time = time.time()\n",
    "\n",
    "history_gru = model_gru.fit(X, y, epochs=40, verbose=1, callbacks=[earlystop], batch_size=128)\n",
    "\n",
    "end_time = time.time()\n",
    "elapsed_time = end_time - start_time\n",
    "print(f\"Time taken: {round(elapsed_time, 1)} seconds\")"
   ]
  },
  {
   "cell_type": "markdown",
   "id": "04f448a4",
   "metadata": {},
   "source": [
    "## 4.3 Analysis\n",
    "\n"
   ]
  },
  {
   "cell_type": "markdown",
   "id": "60f9403f",
   "metadata": {},
   "source": [
    "### 4.3.1 LSTM"
   ]
  },
  {
   "cell_type": "code",
   "execution_count": 58,
   "id": "cea17d54",
   "metadata": {},
   "outputs": [
    {
     "data": {
      "image/png": "[encoded data removed]",
      "text/plain": [
       "<Figure size 1000x600 with 2 Axes>"
      ]
     },
     "metadata": {},
     "output_type": "display_data"
    }
   ],
   "source": [
    "# Create the main figure and axis\n",
    "fig, ax1 = plt.subplots(figsize=(10, 6))\n",
    "\n",
    "# Plot accuracy on the main axis (ax1)\n",
    "ax1.plot(history_lstm.history['accuracy'], label='Train Accuracy', color='blue')\n",
    "ax1.set_title('LSTM Training Accuracy and Loss')\n",
    "ax1.set_xlabel('Epochs')\n",
    "ax1.set_ylabel('Accuracy', color='blue')\n",
    "ax1.tick_params('y', colors='blue')\n",
    "ax1.legend(loc='lower left')\n",
    "\n",
    "# Create a secondary y-axis for the loss\n",
    "ax2 = ax1.twinx()\n",
    "ax2.plot(history_lstm.history['loss'], label='Train Loss', color='red')\n",
    "ax2.set_ylabel('Loss', color='red')\n",
    "ax2.tick_params('y', colors='red')\n",
    "ax2.legend(loc='upper left')\n",
    "\n",
    "plt.show()"
   ]
  },
  {
   "cell_type": "markdown",
   "id": "052d1ddc",
   "metadata": {},
   "source": [
    "The below is our observation of training history for LSTM.\n",
    "- Starting Accuracy: The LSTM model started with an accuracy of approximately 0.2744. This is quite low, indicating the model had a lot of learning to do.\n",
    "- Final Accuracy: By the end of 40 epochs, the LSTM model achieved an accuracy of approximately 0.6967.\n",
    "- Trend: The accuracy of the LSTM model gradually increased over the epochs. However, there were some fluctuations, especially after 30 epochs. For instance, there was a noticeable dip in accuracy at epoch 35.\n",
    "- Overall: The LSTM model showed a steady improvement over the 40 epochs, nearly tripling its accuracy. However, it seems like the model might still have some potential for further improvement or tuning.\n",
    "- Time to training: 913.1 sec"
   ]
  },
  {
   "cell_type": "markdown",
   "id": "8dbdb96b",
   "metadata": {},
   "source": [
    "#### Lyrics generation"
   ]
  },
  {
   "cell_type": "code",
   "execution_count": 42,
   "id": "5e9140f9",
   "metadata": {},
   "outputs": [],
   "source": [
    "def song_generator(seed_text, next_words, model, tokenizer, max_sequence_len):\n",
    "    for _ in range(next_words):\n",
    "        token_list = tokenizer.texts_to_sequences([seed_text])[0]\n",
    "        token_list = pad_sequences([token_list], maxlen=max_sequence_len-1, padding='pre')\n",
    "        predicted_probs = model.predict(token_list, verbose=0)\n",
    "        predicted = np.argmax(predicted_probs, axis=-1)  # get the class index\n",
    "        \n",
    "        output_word = \"\"\n",
    "        for word, index in tokenizer.word_index.items():\n",
    "            if index == predicted:\n",
    "                output_word = word\n",
    "                break\n",
    "        seed_text += \" \" + output_word\n",
    "    return seed_text"
   ]
  },
  {
   "cell_type": "code",
   "execution_count": 31,
   "id": "6834403a",
   "metadata": {},
   "outputs": [
    {
     "data": {
      "text/plain": [
       "\"Why you and i don't have to be a little bit of me on me on a time i can make it\""
      ]
     },
     "execution_count": 31,
     "metadata": {},
     "output_type": "execute_result"
    }
   ],
   "source": [
    "song_generator(\"Why you\", 20, model_lstm, tokenizer, max_sequence_len)"
   ]
  },
  {
   "cell_type": "code",
   "execution_count": 32,
   "id": "cb38165e",
   "metadata": {},
   "outputs": [
    {
     "data": {
      "text/plain": [
       "\"I know and you see me i see you know that you see your love is your heart and you're not you're\""
      ]
     },
     "execution_count": 32,
     "metadata": {},
     "output_type": "execute_result"
    }
   ],
   "source": [
    "song_generator(\"I know\", 20, model_lstm, tokenizer, max_sequence_len)"
   ]
  },
  {
   "cell_type": "code",
   "execution_count": 33,
   "id": "cb792531",
   "metadata": {},
   "outputs": [
    {
     "data": {
      "text/plain": [
       "\"Because i don't know i don't have to be a way you see it on the clock i don't have to\""
      ]
     },
     "execution_count": 33,
     "metadata": {},
     "output_type": "execute_result"
    }
   ],
   "source": [
    "song_generator(\"Because\", 20, model_lstm, tokenizer, max_sequence_len)"
   ]
  },
  {
   "cell_type": "code",
   "execution_count": 43,
   "id": "488eed36",
   "metadata": {},
   "outputs": [
    {
     "data": {
      "text/plain": [
       "\"Sushi i know i know that you know that you're leaving not don't know that you know that you're leaving you\""
      ]
     },
     "execution_count": 43,
     "metadata": {},
     "output_type": "execute_result"
    }
   ],
   "source": [
    "song_generator(\"Sushi\", 20, model_lstm, tokenizer, max_sequence_len)"
   ]
  },
  {
   "cell_type": "markdown",
   "id": "e65fbc0c",
   "metadata": {},
   "source": [
    "The output from the song generator is not perfect, but it resembles the lyrics of pop music!\n",
    "\n",
    "Since the model doesn't truly \"think\", it finds the best matching word based on the context from the training data. Thus, unfamiliar words, such as \"Sushi\", can confuse the model."
   ]
  },
  {
   "cell_type": "markdown",
   "id": "d41ef0ce",
   "metadata": {},
   "source": [
    "### 4.3.2 GRU"
   ]
  },
  {
   "cell_type": "code",
   "execution_count": 59,
   "id": "1a77f511",
   "metadata": {},
   "outputs": [
    {
     "data": {
      "image/png": "[encoded data removed]",
      "text/plain": [
       "<Figure size 1000x600 with 2 Axes>"
      ]
     },
     "metadata": {},
     "output_type": "display_data"
    }
   ],
   "source": [
    "# Create the main figure and axis\n",
    "fig, ax1 = plt.subplots(figsize=(10, 6))\n",
    "\n",
    "# Plot accuracy on the main axis (ax1)\n",
    "ax1.plot(history_gru.history['accuracy'], label='Train Accuracy', color='blue')\n",
    "ax1.set_title('GRU Training Accuracy and Loss')\n",
    "ax1.set_xlabel('Epochs')\n",
    "ax1.set_ylabel('Accuracy', color='blue')\n",
    "ax1.tick_params('y', colors='blue')\n",
    "ax1.legend(loc='lower left')\n",
    "\n",
    "# Create a secondary y-axis for the loss\n",
    "ax2 = ax1.twinx()\n",
    "ax2.plot(history_gru.history['loss'], label='Train Loss', color='red')\n",
    "ax2.set_ylabel('Loss', color='red')\n",
    "ax2.tick_params('y', colors='red')\n",
    "ax2.legend(loc='upper left')\n",
    "\n",
    "plt.show()"
   ]
  },
  {
   "cell_type": "markdown",
   "id": "0969836d",
   "metadata": {},
   "source": [
    "The below is our obsrvation of training history for GRU.\n",
    "- Starting Accuracy: The GRU model began with a significantly high accuracy of approximately 0.8982.\n",
    "- Final Accuracy: The training of the GRU model was stopped early at the 25th epoch (out of 40) due to the early stopping callback, with a final accuracy of about 0.9716.\n",
    "- Trend: The accuracy of the GRU model showed rapid improvement in the initial epochs and then began to stabilize. The model maintained a high accuracy throughout, although there were minor fluctuations in the later epochs.\n",
    "- Overall: The GRU model demonstrated superior performance compared to the LSTM in this specific task, achieving a very high accuracy in fewer epochs. The early stopping suggests that the model might have begun to overfit or wasn't seeing significant improvements, hence the decision to halt training.\n",
    "- Time to training: 563.8 sec"
   ]
  },
  {
   "cell_type": "code",
   "execution_count": 45,
   "id": "5a73b4b8",
   "metadata": {},
   "outputs": [
    {
     "data": {
      "text/plain": [
       "\"Why you had to call me now that i can't wanted your plane gets all the words that he first met you\""
      ]
     },
     "execution_count": 45,
     "metadata": {},
     "output_type": "execute_result"
    }
   ],
   "source": [
    "song_generator(\"Why you\", 20, model_gru, tokenizer, max_sequence_len)"
   ]
  },
  {
   "cell_type": "code",
   "execution_count": 46,
   "id": "a2c4be54",
   "metadata": {},
   "outputs": [
    {
     "data": {
      "text/plain": [
       "\"I know you're leavin' babe goodbye so long i hope someday somebody listens to your song those bright lights never ever spell\""
      ]
     },
     "execution_count": 46,
     "metadata": {},
     "output_type": "execute_result"
    }
   ],
   "source": [
    "song_generator(\"I know\", 20, model_gru, tokenizer, max_sequence_len)"
   ]
  },
  {
   "cell_type": "code",
   "execution_count": 38,
   "id": "07bcc1c3",
   "metadata": {},
   "outputs": [
    {
     "data": {
      "text/plain": [
       "\"Because that he don't have a little girl that we didn't care and the world decided to check cause i can\""
      ]
     },
     "execution_count": 38,
     "metadata": {},
     "output_type": "execute_result"
    }
   ],
   "source": [
    "song_generator(\"Because\", 20, model_gru, tokenizer, max_sequence_len)"
   ]
  },
  {
   "cell_type": "code",
   "execution_count": 48,
   "id": "74e87d98",
   "metadata": {},
   "outputs": [
    {
     "data": {
      "text/plain": [
       "'Sushi my heart have strong like this too my times i love it so baby when i fall when you see'"
      ]
     },
     "execution_count": 48,
     "metadata": {},
     "output_type": "execute_result"
    }
   ],
   "source": [
    "song_generator(\"Sushi\", 20, model_gru, tokenizer, max_sequence_len)"
   ]
  },
  {
   "cell_type": "markdown",
   "id": "2bf7dc13",
   "metadata": {},
   "source": [
    "The song generator, based on the GRU model, produced a more natural output."
   ]
  },
  {
   "cell_type": "markdown",
   "id": "260536d8",
   "metadata": {},
   "source": [
    "### 4.3.3 Model comparison\n"
   ]
  },
  {
   "cell_type": "markdown",
   "id": "ed489851",
   "metadata": {},
   "source": [
    "In this project, we constructed generative machine learning models. Due to the nature of these models, there isn't a direct metric that can evaluate the generated outputs. However, we can still make comparative assessments between the two models based on the following criteria:\n",
    "\n",
    "#### Measurable metrics\n",
    "\n",
    "Training Time & Accuracy: These are quantifiable aspects of the models. Though the time taken for one epoch did not display a notable difference between the two models, the GRU outperformed the LSTM in terms of accuracy. Specifically, the GRU achieved higher accuracy in a shorter amount of time. Based on these findings, we deduced that the GRU model is more suitable for this specific task.\n",
    "\n",
    "\n",
    "#### Unmeasurebale metrics\n",
    "\n",
    "Qualitative Comparison of Outputs: We compared the results generated by both the LSTM and GRU models, keeping in mind that they were trained on the same dataset. When evaluated subjectively by human observation, the output from the GRU model appeared more natural and emotionally resonant. This heightened quality of the GRU's output could likely be attributed to its accuracy in training."
   ]
  },
  {
   "cell_type": "markdown",
   "id": "b964f66d",
   "metadata": {},
   "source": [
    "### 4.4 Conclusion\n",
    "\n",
    "We successfully met the objectives of this project, training a generative machine learning model capable of crafting lyrics aligned with a designated music genre. Though the training codebase may seem succinct, it masks the significant effort expended on research, experimentation, and iterative testing that formed the backbone of this project.\n",
    "\n",
    "In future endeavors, we intend to delve deeper into factors related to emotion, aiming to yield more natural and captivating outputs. For instance, we're considering the integration of human emotional responses, such as popularity scores and review ratings, to further refine the generated lyrics.\n",
    "\n",
    "This project was a profound learning journey. We were genuinely enthralled by the complexities of generative AI and found immense satisfaction in actively participating in the model-building process.\n",
    "\n",
    "Concluding our machine learning specialization with this course, we've amassed several indispensable skills crucial for any aspiring data scientist:\n",
    "\n",
    "- Mastery over foundational concepts of machine learning.\n",
    "- A robust understanding of pivotal subjects and tools.\n",
    "- Practical experience, underscored by hands-on projects, fostering essential problem-solving abilities.\n",
    "\n",
    "It's worth noting that the journey of a data scientist is one of perpetual learning. Embracing a mindset of continuous growth and adaptability is paramount in this ever-evolving field. Thank you!"
   ]
  },
  {
   "cell_type": "markdown",
   "id": "92a3e5c1",
   "metadata": {},
   "source": [
    "# Reference\n",
    "- https://www.kaggle.com/datasets/neisse/scrapped-lyrics-from-6-genres/data\n",
    "- https://towardsdatascience.com/lstm-by-example-using-tensorflow-feb0c1968537\n",
    "- https://regenerativetoday.com/implementation-of-simplernn-gru-and-lstm-models-in-keras-and-tensorflow-for-an-nlp-project/"
   ]
  },
  {
   "cell_type": "code",
   "execution_count": null,
   "id": "99e7af0a",
   "metadata": {},
   "outputs": [],
   "source": []
  }
 ],
 "metadata": {
  "kernelspec": {
   "display_name": "Python 3 (ipykernel)",
   "language": "python",
   "name": "python3"
  },
  "language_info": {
   "codemirror_mode": {
    "name": "ipython",
    "version": 3
   },
   "file_extension": ".py",
   "mimetype": "text/x-python",
   "name": "python",
   "nbconvert_exporter": "python",
   "pygments_lexer": "ipython3",
   "version": "3.9.18"
  }
 },
 "nbformat": 4,
 "nbformat_minor": 5
}
